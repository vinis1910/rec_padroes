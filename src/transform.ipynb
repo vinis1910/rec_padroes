{
 "cells": [
  {
   "cell_type": "markdown",
   "metadata": {},
   "source": [
    "# Transformação do dataset\n",
    "\n",
    "Neste notebook será realizada a transformação do dataset EEG em .txt para um arquivo .npy (numpy array)."
   ]
  },
  {
   "cell_type": "code",
   "execution_count": 1,
   "metadata": {},
   "outputs": [
    {
     "name": "stdout",
     "output_type": "stream",
     "text": [
      "(162693, 8)\n",
      "(161443, 8)\n"
     ]
    }
   ],
   "source": [
    "import numpy as np\n",
    "\n",
    "file = '../OpenBCI-RAW-ORIGINAL.txt'\n",
    "data = np.loadtxt(file, dtype=float, delimiter=',', skiprows=5, usecols=range(1, 9))\n",
    "print(data.shape)\n",
    "\n",
    "data = data[500:-750, :]\n",
    "print(data.shape)\n",
    "\n",
    "# caso exista mais de um arquivo TXT analisado\n",
    "# data = np.concatenate((data1, data2), axis=0)\n",
    "\n",
    "np.save('../data.npy', data)"
   ]
  },
  {
   "cell_type": "markdown",
   "metadata": {},
   "source": [
    "**Tarefa**: Analisar os `N` TXTs (arquivos OpenBCI), verificando a necessidade de remover dados do início e fim de cada um deles (remoção de picos). Importante realizar uma pré-visualização rápida (dentro do OpenBCI GUI) para remover possíveis ocorrências falhas no meio do sinal.\n",
    "\n",
    "**Tarefa 2**: Concatenar todos os TXTs resultantes, salvando em um único arquivo dataset `.npy`."
   ]
  }
 ],
 "metadata": {
  "kernelspec": {
   "display_name": "venv",
   "language": "python",
   "name": "python3"
  },
  "language_info": {
   "codemirror_mode": {
    "name": "ipython",
    "version": 3
   },
   "file_extension": ".py",
   "mimetype": "text/x-python",
   "name": "python",
   "nbconvert_exporter": "python",
   "pygments_lexer": "ipython3",
   "version": "3.10.12"
  }
 },
 "nbformat": 4,
 "nbformat_minor": 2
}

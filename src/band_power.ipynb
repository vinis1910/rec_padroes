{
 "cells": [
  {
   "cell_type": "code",
   "execution_count": 2,
   "metadata": {},
   "outputs": [],
   "source": [
    "from scipy.signal import welch\n",
    "import mne\n",
    "import numpy as np"
   ]
  },
  {
   "cell_type": "code",
   "execution_count": 8,
   "metadata": {},
   "outputs": [
    {
     "name": "stdout",
     "output_type": "stream",
     "text": [
      "Opening raw data file ../data_filtered.fif...\n",
      "    Range : 0 ... 161442 =      0.000 ...   645.768 secs\n",
      "Ready.\n",
      "[100.0, 0.0, 0.0, 0.0]\n"
     ]
    },
    {
     "name": "stderr",
     "output_type": "stream",
     "text": [
      "/tmp/ipykernel_15007/2089526099.py:1: RuntimeWarning: This filename (../data_filtered.fif) does not conform to MNE naming conventions. All raw files should end with raw.fif, raw_sss.fif, raw_tsss.fif, _meg.fif, _eeg.fif, _ieeg.fif, raw.fif.gz, raw_sss.fif.gz, raw_tsss.fif.gz, _meg.fif.gz, _eeg.fif.gz or _ieeg.fif.gz\n",
      "  mne_data = mne.io.read_raw_fif('../data_filtered.fif')\n"
     ]
    }
   ],
   "source": [
    "mne_data = mne.io.read_raw_fif('../data_filtered.fif')\n",
    "\n",
    "# Neste ponto deverá ser realizado um loop para variar tmin e tmax até o final do sinal\n",
    "# o tamanho do buffer deve ser variável (no min. 3s) e a janela deslizante também deve variar,\n",
    "# começando de 200 ms e aumentando gradativamente até 1s.\n",
    "cut = mne_data.get_data(tmin=0, tmax=5)\n",
    "# nperseg e noverlap devem ser variáveis também, para encontrar um melhor resultado ao longo do tempo.\n",
    "freqs, psd = welch(cut, fs=mne_data.info['sfreq'], nperseg=64, noverlap=32)\n",
    "# \"elimina\" os N eletrodos utilizando a média\n",
    "X = np.average(psd, axis=0)\n",
    "\n",
    "theta = (4, 8)\n",
    "alpha = (8, 13)\n",
    "beta = (13, 30)\n",
    "gamma = (30, 100)\n",
    "\n",
    "# Encontrar os índices correspondentes às frequências de interesse\n",
    "theta_idxs = np.where((freqs >= theta[0]) & (freqs <= theta[1]))[0]\n",
    "alpha_idxs = np.where((freqs >= alpha[0]) & (freqs <= alpha[1]))[0]\n",
    "beta_idxs = np.where((freqs >= beta[0]) & (freqs <= beta[1]))[0]\n",
    "gamma_idxs = np.where((freqs >= gamma[0]) & (freqs <= gamma[1]))[0]\n",
    "\n",
    "# Calcular a potência em cada banda de frequência\n",
    "results = [0, 0, 0, 0]\n",
    "bands = [np.sum(X[theta_idxs]), np.sum(X[alpha_idxs]), np.sum(X[beta_idxs]), np.sum(X[gamma_idxs])]\n",
    "results[np.argmax(bands)] += 1\n",
    "\n",
    "total = sum(results)\n",
    "percentages = [round((count/total) * 100, 2) for count in results]\n",
    "print(percentages)\n"
   ]
  },
  {
   "cell_type": "markdown",
   "metadata": {},
   "source": [
    "**Tarefas finais para este notebook:**\n",
    "- Realizar um loop que varia por todo os sinal (descrito nos comentários de código);\n",
    "- Modificar a implementação do cálculo da potência utilizando outros argumentos que não seja a \"soma\". E por fim, pontuar qual banda está mais ativa durante o sinal;\n",
    "- Mostrar os resultados de forma gráfica. Para esta tarefa, deve ser observado o melhor gráfico a ser utilizado para demonstração dos resultados."
   ]
  }
 ],
 "metadata": {
  "kernelspec": {
   "display_name": "venv",
   "language": "python",
   "name": "python3"
  },
  "language_info": {
   "codemirror_mode": {
    "name": "ipython",
    "version": 3
   },
   "file_extension": ".py",
   "mimetype": "text/x-python",
   "name": "python",
   "nbconvert_exporter": "python",
   "pygments_lexer": "ipython3",
   "version": "3.10.12"
  }
 },
 "nbformat": 4,
 "nbformat_minor": 2
}
